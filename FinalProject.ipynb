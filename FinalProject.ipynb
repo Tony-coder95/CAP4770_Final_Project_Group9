{
 "cells": [
  {
   "cell_type": "markdown",
   "metadata": {},
   "source": [
    "## Predicting Restaurant Health Inspection Scores Using Yelp Reviews and Metadata\n",
    "\n",
    "### A. Introduction \n",
    "The objective of our project is to apply data science techniques from our Intro to Data Science Course in order to build out models that can accurately predict health inspection outcomes for restaurants in a given area. We aim to combine Natural Language Processing of review text with structured meta data to construct these predictive models. <br><br>\n",
    "In order to best explore our data, we will follow the *Knowledge Discovery from Data* approach. Namely, we seek to:\n",
    "+ Clean the selected datasets to remove noise\n",
    "+ Integrate and join data from  two sources (Yelp Academic Dataset and Select City Health Scores)\n",
    "+ Select the relevant data from our constructed dataset for analysis\n",
    "+ Transform our data into a usable form for mining\n",
    "+ Mine our data to find interesting patterns\n",
    "+ Evaluate our patterns based on interestingness to construct our models\n",
    "+ Present our mined knowledge and models to positively impact the consumers ability to recognize safe restaurants"
   ]
  },
  {
   "cell_type": "markdown",
   "metadata": {},
   "source": [
    "### B. Cleaning Data\n",
    "We begin our data analysis process by working with our Yelp dataset in JSON format in order to clean the data and bring it down to a workable size. Our selected city for analysis is Santa Barbara as both the Yelp and Health Department data are well populated. <br><br>\n",
    "**NOTE** - We have elected to only include the cleaned and prepped dataset in our repository as the full dataset is many gigabytes in size. Please visit https://www.yelp.com/dataset if you wish to run this analysis for other cities."
   ]
  },
  {
   "cell_type": "code",
   "execution_count": 11,
   "metadata": {},
   "outputs": [],
   "source": [
    "# Code Snippet 1 - Cleaning the Business IDs\n",
    "import json\n",
    "target_city = \"Santa Barbara\"\n",
    "target_state = \"CA\"\n",
    "business_ids = set()\n",
    "filtered_businesses = []\n",
    "\n",
    "with open('./yelp_academic_dataset_business.json', 'r', encoding = 'utf-8') as f:\n",
    "    for line in f:\n",
    "        data = json.loads(line)\n",
    "        if data.get('city') == target_city and data.get('state') == target_state:\n",
    "            filtered_businesses.append(data)\n",
    "            business_ids.add(data['business_id'])\n",
    "\n",
    "# Save filtered businesses\n",
    "with open('filtered_business.json', 'w', encoding='utf-8') as f:\n",
    "    for b in filtered_businesses:\n",
    "        f.write(json.dumps(b) + '\\n')"
   ]
  },
  {
   "cell_type": "markdown",
   "metadata": {},
   "source": [
    "**NOTE** - In our repository, you can now see the result of this script as our *filtered_business.json* file."
   ]
  },
  {
   "cell_type": "code",
   "execution_count": 12,
   "metadata": {},
   "outputs": [],
   "source": [
    "# Code Snippet 2 - Filtering the Reviews\n",
    "filtered_reviews = []\n",
    "\n",
    "with open('yelp_academic_dataset_review.json', 'r', encoding='utf-8') as f:\n",
    "    for i, line in enumerate(f):\n",
    "        data = json.loads(line)\n",
    "        if data['business_id'] in business_ids:\n",
    "            filtered_reviews.append(data)\n",
    "\n",
    "with open('filtered_reviews.json', 'w', encoding='utf-8') as f:\n",
    "    for r in filtered_reviews:\n",
    "        f.write(json.dumps(r) + '\\n')"
   ]
  },
  {
   "cell_type": "markdown",
   "metadata": {},
   "source": [
    "**NOTE** - In our repository, you can now see the result of this script as our *filtered_reviews.json* file."
   ]
  },
  {
   "cell_type": "code",
   "execution_count": 14,
   "metadata": {
    "scrolled": true
   },
   "outputs": [
    {
     "data": {
      "text/html": [
       "<div>\n",
       "<style scoped>\n",
       "    .dataframe tbody tr th:only-of-type {\n",
       "        vertical-align: middle;\n",
       "    }\n",
       "\n",
       "    .dataframe tbody tr th {\n",
       "        vertical-align: top;\n",
       "    }\n",
       "\n",
       "    .dataframe thead th {\n",
       "        text-align: right;\n",
       "    }\n",
       "</style>\n",
       "<table border=\"1\" class=\"dataframe\">\n",
       "  <thead>\n",
       "    <tr style=\"text-align: right;\">\n",
       "      <th></th>\n",
       "      <th>stars_review</th>\n",
       "      <th>text</th>\n",
       "      <th>name</th>\n",
       "      <th>categories</th>\n",
       "    </tr>\n",
       "  </thead>\n",
       "  <tbody>\n",
       "    <tr>\n",
       "      <th>0</th>\n",
       "      <td>3.0</td>\n",
       "      <td>This easter instead of going to Lopez Lake we ...</td>\n",
       "      <td>Los Padres National Forest</td>\n",
       "      <td>Parks, Active Life</td>\n",
       "    </tr>\n",
       "    <tr>\n",
       "      <th>1</th>\n",
       "      <td>4.0</td>\n",
       "      <td>I work with a college group that does camping ...</td>\n",
       "      <td>Los Padres National Forest</td>\n",
       "      <td>Parks, Active Life</td>\n",
       "    </tr>\n",
       "    <tr>\n",
       "      <th>2</th>\n",
       "      <td>5.0</td>\n",
       "      <td>My SO and I love exploring new trails and so i...</td>\n",
       "      <td>Los Padres National Forest</td>\n",
       "      <td>Parks, Active Life</td>\n",
       "    </tr>\n",
       "    <tr>\n",
       "      <th>3</th>\n",
       "      <td>5.0</td>\n",
       "      <td>I can't believe there's only one review for th...</td>\n",
       "      <td>Los Padres National Forest</td>\n",
       "      <td>Parks, Active Life</td>\n",
       "    </tr>\n",
       "    <tr>\n",
       "      <th>4</th>\n",
       "      <td>5.0</td>\n",
       "      <td>I love this area for hiking! I go there all th...</td>\n",
       "      <td>Los Padres National Forest</td>\n",
       "      <td>Parks, Active Life</td>\n",
       "    </tr>\n",
       "  </tbody>\n",
       "</table>\n",
       "</div>"
      ],
      "text/plain": [
       "   stars_review                                               text  \\\n",
       "0           3.0  This easter instead of going to Lopez Lake we ...   \n",
       "1           4.0  I work with a college group that does camping ...   \n",
       "2           5.0  My SO and I love exploring new trails and so i...   \n",
       "3           5.0  I can't believe there's only one review for th...   \n",
       "4           5.0  I love this area for hiking! I go there all th...   \n",
       "\n",
       "                         name          categories  \n",
       "0  Los Padres National Forest  Parks, Active Life  \n",
       "1  Los Padres National Forest  Parks, Active Life  \n",
       "2  Los Padres National Forest  Parks, Active Life  \n",
       "3  Los Padres National Forest  Parks, Active Life  \n",
       "4  Los Padres National Forest  Parks, Active Life  "
      ]
     },
     "execution_count": 14,
     "metadata": {},
     "output_type": "execute_result"
    }
   ],
   "source": [
    "# Code Snippet 3 - Importing reviews and business IDs as a data frame to clean unused columns\n",
    "import pandas as pd\n",
    "\n",
    "def load_json_lines(filename):\n",
    "    with open(filename, 'r', encoding='utf-8') as f:\n",
    "        return pd.DataFrame([json.loads(line) for line in f])\n",
    "\n",
    "business_df = load_json_lines('filtered_business.json')\n",
    "review_df = load_json_lines('filtered_reviews.json')\n",
    "\n",
    "# Join on business_id\n",
    "combined_df = review_df.merge(business_df, on='business_id', suffixes=('_review', '_business'))\n",
    "\n",
    "combined_df[['stars_review', 'text', 'name', 'categories']].head()"
   ]
  },
  {
   "cell_type": "code",
   "execution_count": 15,
   "metadata": {
    "scrolled": true
   },
   "outputs": [
    {
     "name": "stdout",
     "output_type": "stream",
     "text": [
      "<class 'pandas.core.frame.DataFrame'>\n",
      "Int64Index: 269630 entries, 0 to 269629\n",
      "Data columns (total 22 columns):\n",
      "business_id       269630 non-null object\n",
      "cool              269630 non-null int64\n",
      "date              269630 non-null object\n",
      "funny             269630 non-null int64\n",
      "review_id         269630 non-null object\n",
      "stars_review      269630 non-null float64\n",
      "text              269630 non-null object\n",
      "useful            269630 non-null int64\n",
      "user_id           269630 non-null object\n",
      "address           269630 non-null object\n",
      "attributes        263964 non-null object\n",
      "categories        269625 non-null object\n",
      "city              269630 non-null object\n",
      "hours             254231 non-null object\n",
      "is_open           269630 non-null int64\n",
      "latitude          269630 non-null float64\n",
      "longitude         269630 non-null float64\n",
      "name              269630 non-null object\n",
      "postal_code       269630 non-null object\n",
      "review_count      269630 non-null int64\n",
      "stars_business    269630 non-null float64\n",
      "state             269630 non-null object\n",
      "dtypes: float64(4), int64(5), object(13)\n",
      "memory usage: 47.3+ MB\n"
     ]
    }
   ],
   "source": [
    "# Code Snippet 4 - Refining the schema of the combined_df\n",
    "combined_df.info()"
   ]
  },
  {
   "cell_type": "code",
   "execution_count": 27,
   "metadata": {},
   "outputs": [
    {
     "data": {
      "image/png": "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\n",
      "text/plain": [
       "<matplotlib.figure.Figure at 0x7acd21b3f358>"
      ]
     },
     "metadata": {},
     "output_type": "display_data"
    }
   ],
   "source": [
    "import matplotlib.pyplot as plt\n",
    "\n",
    "food_count = combined_df['categories'].str.contains('food', case=False, na=False).value_counts()\n",
    "food_count.index = ['Contains \"Food\"', 'Does Not Contain \"Food\"']\n",
    "\n",
    "food_count.plot(kind='pie', title='Businesses with \"Food\" in Categories')\n",
    "plt.axis('equal')  # Keep it as a circle\n",
    "plt.show()\n"
   ]
  }
 ],
 "metadata": {
  "kernelspec": {
   "display_name": "Python 3",
   "language": "python",
   "name": "python3"
  },
  "language_info": {
   "codemirror_mode": {
    "name": "ipython",
    "version": 3
   },
   "file_extension": ".py",
   "mimetype": "text/x-python",
   "name": "python",
   "nbconvert_exporter": "python",
   "pygments_lexer": "ipython3",
   "version": "3.6.9"
  }
 },
 "nbformat": 4,
 "nbformat_minor": 5
}

### Figure: Top 10 Most Common Business Categories

This bar chart displays the most frequent business categories in our filtered dataset for Santa Barbara. It helps identify dominant business types and provides insight into the Yelp category structure.

# Bar Plot: Top 10 Most Common Business Categories

from collections import Counter
import matplotlib.pyplot as plt
import pandas as pd

# Split category strings into lists
category_series = combined_df['categories'].dropna().str.split(', ')
category_list = [category for sublist in category_series for category in sublist]

# Count the most common categories
top_categories = Counter(category_list).most_common(10)

# Create DataFrame
cat_df = pd.DataFrame(top_categories, columns=['Category', 'Count'])

# Plot
plt.figure(figsize=(10, 6))
plt.bar(cat_df['Category'], cat_df['Count'], color='skyblue', edgecolor='black')
plt.title('Top 10 Most Common Business Categories')
plt.xlabel('Category')
plt.ylabel('Number of Businesses')
plt.xticks(rotation=45, ha='right')
plt.tight_layout()
plt.show()
